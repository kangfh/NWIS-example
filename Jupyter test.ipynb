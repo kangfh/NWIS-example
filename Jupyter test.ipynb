{
 "cells": [
  {
   "cell_type": "markdown",
   "metadata": {},
   "source": [
    "# Jupyter notebook studying example\n",
    "\n",
    "This example is cited and cloned from Doctor Lampert\"s Github example.\n",
    "the purpose of this paper is tring to show an example of transform python code to Jupyter notebook. The code progress will extract NWIS data for HSPF by using nwisextractor progress and display the final results and the data resource address. "
   ]
  },
  {
   "cell_type": "markdown",
   "metadata": {},
   "source": [
    "Below python code is trying to import the required python progress such as OS library, datetime library, and pickle library. "
   ]
  },
  {
   "cell_type": "code",
   "execution_count": 52,
   "metadata": {},
   "outputs": [],
   "source": [
    "import os,datetime,pickle"
   ]
  },
  {
   "cell_type": "markdown",
   "metadata": {},
   "source": [
    "This code string is trying to recall the nwisextractor progress, which stores in the preprocessing directory. The nwisextractor progress will download the daily discharge and water quality data source from setting gagestations in the entire USA.  "
   ]
  },
  {
   "cell_type": "code",
   "execution_count": 53,
   "metadata": {},
   "outputs": [],
   "source": [
    "from pyhspf.preprocessing import NWISExtractor"
   ]
  },
  {
   "cell_type": "markdown",
   "metadata": {},
   "source": [
    "Below code is using for display the interactive results of each code progress."
   ]
  },
  {
   "cell_type": "code",
   "execution_count": 54,
   "metadata": {},
   "outputs": [],
   "source": [
    "from IPython.core.interactiveshell import InteractiveShell\n",
    "InteractiveShell.ast_node_interactivity = \"all\""
   ]
  },
  {
   "cell_type": "markdown",
   "metadata": {},
   "source": [
    "Below code is the path of download files. The \"#\" is used to make comments in the code."
   ]
  },
  {
   "cell_type": "code",
   "execution_count": 55,
   "metadata": {
    "scrolled": true
   },
   "outputs": [],
   "source": [
    "NWIS      = 'NWIS' # location for NWIS metadata files\n",
    "directory = 'data' # working directory for input/output\n",
    "HUC8      = '02060006' # 8-digit HUC\n",
    "\n",
    "# extracted files\n",
    "gagepath  = '{}/gagedata'.format(directory)"
   ]
  },
  {
   "cell_type": "markdown",
   "metadata": {},
   "source": [
    "Indicating time series of the extracting data resourses."
   ]
  },
  {
   "cell_type": "code",
   "execution_count": 56,
   "metadata": {},
   "outputs": [],
   "source": [
    "start = datetime.datetime(1980, 1, 1)  # start date for timeseries\n",
    "end   = datetime.datetime(2010, 1, 1)  # end date for timeseries"
   ]
  },
  {
   "cell_type": "markdown",
   "metadata": {},
   "source": [
    "Indicating the location metadata file and gage stations in the HUC8."
   ]
  },
  {
   "cell_type": "code",
   "execution_count": 57,
   "metadata": {},
   "outputs": [
    {
     "name": "stdout",
     "output_type": "stream",
     "text": [
      "NWIS directory NWIS exists\n",
      "\n",
      "NWIS source metadata file NWIS/USGS_Streamgages-NHD_Locations_Shape.zip is present\n",
      "\n",
      "gage metadata NWIS/USGS_Streamgages-NHD_Locations is present\n",
      "\n",
      "gage station file data/gagestations exists\n",
      "\n",
      "gage data for 01594670 exist\n",
      "\n",
      "fetching flow data from the Patuxent watershed\n"
     ]
    }
   ],
   "source": [
    "nwisextractor = NWISExtractor(NWIS)\n",
    "\n",
    "nwisextractor.extract_HUC8(HUC8, directory)\n",
    "\n",
    "if not os.path.isdir(gagepath):\n",
    "    nwisextractor.download_all(start, end, output = gagepath)\n",
    "gageid    = '01594670'\n",
    "gagedata  = 'hunting_station'\n",
    "nwisextractor.download_gagedata(gageid, start, end, output = gagedata)\n",
    "\n",
    "print('fetching flow data from the Patuxent watershed')\n",
    "\n",
    "# make a list of all the data files just downloaded\n",
    "datafiles = [f for f in os.listdir(gagepath) if f[-3:] != 'png']"
   ]
  },
  {
   "cell_type": "markdown",
   "metadata": {},
   "source": [
    "The data of setting 2001 priod time for each gage. "
   ]
  },
  {
   "cell_type": "code",
   "execution_count": 58,
   "metadata": {},
   "outputs": [
    {
     "name": "stdout",
     "output_type": "stream",
     "text": [
      "Data for downloaded stations:\n",
      "Gage ID:                      01591000\n",
      "Name:                         PATUXENT RIVER NEAR UNITY, MD\n",
      "State:                        MD\n",
      "First day of measurement:     19440720\n",
      "Last day of measurement:      20030930\n",
      "Drainage area (square miles): 34.8\n",
      "Average flow (cfs):           39.284\n",
      "NWIS url:                     http://waterdata.usgs.gov/nwis/nwisman/?site_no=01591000\n",
      "flow on 2001-01-01 (cfs):     15.0\n",
      "mean flow across dates (cfs): 27.8\n",
      "\n",
      "Number of suspended solids measurements: 530\n",
      "TSS concentration on 1985-09-04 10:15:00: 2.0 mg/L\n",
      "\n",
      "Gage ID:                      01591350\n",
      "Name:                         CATTAIL CREEK NEAR COOKSVILLE, MD\n",
      "State:                        MD\n",
      "First day of measurement:     19770420\n",
      "Last day of measurement:      19810930\n",
      "Drainage area (square miles): 8.37\n",
      "Average flow (cfs):           10.99\n",
      "NWIS url:                     http://waterdata.usgs.gov/nwis/nwisman/?site_no=01591350\n",
      "warning, requested dates exceed available data, filling with Nones\n",
      "\n",
      "warning, requested dates exceed available data, filling with Nones\n",
      "\n",
      "flow on 2001-01-01 (cfs):     None\n",
      "\n",
      "no TSS data available for this station\n",
      "\n",
      "Gage ID:                      01591400\n",
      "Name:                         CATTAIL CREEK NEAR GLENWOOD, MD\n",
      "State:                        MD\n",
      "First day of measurement:     19780606\n",
      "Last day of measurement:      20030930\n",
      "Drainage area (square miles): 22.9\n",
      "Average flow (cfs):           26.113\n",
      "NWIS url:                     http://waterdata.usgs.gov/nwis/nwisman/?site_no=01591400\n",
      "flow on 2001-01-01 (cfs):     13.0\n",
      "mean flow across dates (cfs): 20.2\n",
      "\n",
      "no TSS data available for this station\n",
      "\n",
      "Gage ID:                      01591610\n",
      "Name:                         PATUXENT RIVER BELOW BRIGHTON DAM NEAR BRIGHTON,MD\n",
      "State:                        MD\n",
      "First day of measurement:     19801001\n",
      "Last day of measurement:      20030930\n",
      "Drainage area (square miles): 78.6\n",
      "Average flow (cfs):           82.269\n",
      "NWIS url:                     http://waterdata.usgs.gov/nwis/nwisman/?site_no=01591610\n",
      "flow on 2001-01-01 (cfs):     103.0\n",
      "mean flow across dates (cfs): 76.2\n",
      "\n",
      "no TSS data available for this station\n",
      "\n",
      "Gage ID:                      01591700\n",
      "Name:                         HAWLINGS RIVER NEAR SANDY SPRING, MD\n",
      "State:                        MD\n",
      "First day of measurement:     19780607\n",
      "Last day of measurement:      20030930\n",
      "Drainage area (square miles): 27.0\n",
      "Average flow (cfs):           30.39\n",
      "NWIS url:                     http://waterdata.usgs.gov/nwis/nwisman/?site_no=01591700\n",
      "flow on 2001-01-01 (cfs):     12.0\n",
      "mean flow across dates (cfs): 24.8\n",
      "\n",
      "no TSS data available for this station\n",
      "\n",
      "Gage ID:                      01592500\n",
      "Name:                         PATUXENT RIV NEAR LAUREL, MD\n",
      "State:                        MD\n",
      "First day of measurement:     19441001\n",
      "Last day of measurement:      20030930\n",
      "Drainage area (square miles): 132.0\n",
      "Average flow (cfs):           85.68\n",
      "NWIS url:                     http://waterdata.usgs.gov/nwis/nwisman/?site_no=01592500\n",
      "flow on 2001-01-01 (cfs):     22.0\n",
      "mean flow across dates (cfs): 61.7\n",
      "\n",
      "Number of suspended solids measurements: 24\n",
      "TSS concentration on 1986-01-06 11:10:00: 2.0 mg/L\n",
      "\n",
      "Gage ID:                      01593500\n",
      "Name:                         LITTLE PATUXENT RIVER AT GUILFORD, MD\n",
      "State:                        MD\n",
      "First day of measurement:     19320401\n",
      "Last day of measurement:      20030930\n",
      "Drainage area (square miles): 38.0\n",
      "Average flow (cfs):           43.674\n",
      "NWIS url:                     http://waterdata.usgs.gov/nwis/nwisman/?site_no=01593500\n",
      "flow on 2001-01-01 (cfs):     16.0\n",
      "mean flow across dates (cfs): 33.8\n",
      "\n",
      "no TSS data available for this station\n",
      "\n",
      "Gage ID:                      01593710\n",
      "Name:                         MIDDLE PATUXENT RIVER NEAR SIMPSONVILLE, MD\n",
      "State:                        MD\n",
      "First day of measurement:     19870801\n",
      "Last day of measurement:      19950930\n",
      "Drainage area (square miles): 48.39\n",
      "Average flow (cfs):           50.621\n",
      "NWIS url:                     http://waterdata.usgs.gov/nwis/nwisman/?site_no=01593710\n",
      "warning, requested dates exceed available data, filling with Nones\n",
      "\n",
      "warning, requested dates exceed available data, filling with Nones\n",
      "\n",
      "flow on 2001-01-01 (cfs):     None\n",
      "\n",
      "no TSS data available for this station\n",
      "\n",
      "Gage ID:                      01594440\n",
      "Name:                         PATUXENT RIVER NEAR BOWIE, MD\n",
      "State:                        MD\n",
      "First day of measurement:     19770627\n",
      "Last day of measurement:      20030930\n",
      "Drainage area (square miles): 348.0\n",
      "Average flow (cfs):           374.985\n",
      "NWIS url:                     http://waterdata.usgs.gov/nwis/nwisman/?site_no=01594440\n",
      "flow on 2001-01-01 (cfs):     177.0\n",
      "mean flow across dates (cfs): 302.0\n",
      "\n",
      "Number of suspended solids measurements: 477\n",
      "TSS concentration on 1986-08-13 12:15:00: 14.0 mg/L\n",
      "\n",
      "Gage ID:                      01594670\n",
      "Name:                         HUNTING CREEK NEAR HUNTINGTOWN, MD\n",
      "State:                        MD\n",
      "First day of measurement:     19881001\n",
      "Last day of measurement:      19980603\n",
      "Drainage area (square miles): 9.38\n",
      "Average flow (cfs):           11.258\n",
      "NWIS url:                     http://waterdata.usgs.gov/nwis/nwisman/?site_no=01594670\n",
      "warning, requested dates exceed available data, filling with Nones\n",
      "\n",
      "warning, requested dates exceed available data, filling with Nones\n",
      "\n",
      "flow on 2001-01-01 (cfs):     None\n",
      "\n",
      "Number of suspended solids measurements: 296\n",
      "TSS concentration on 1985-10-17 10:30:00: 9.0 mg/L\n",
      "\n",
      "Gage ID:                      01594710\n",
      "Name:                         KILLPECK CREEK AT HUNTERSVILLE, MD\n",
      "State:                        MD\n",
      "First day of measurement:     19851001\n",
      "Last day of measurement:      19980225\n",
      "Drainage area (square miles): 3.26\n",
      "Average flow (cfs):           3.984\n",
      "NWIS url:                     http://waterdata.usgs.gov/nwis/nwisman/?site_no=01594710\n",
      "warning, requested dates exceed available data, filling with Nones\n",
      "\n",
      "warning, requested dates exceed available data, filling with Nones\n",
      "\n",
      "flow on 2001-01-01 (cfs):     None\n",
      "\n",
      "Number of suspended solids measurements: 367\n",
      "TSS concentration on 1985-10-08 12:30:00: 2.0 mg/L\n",
      "\n",
      "Gage ID:                      01594800\n",
      "Name:                         ST LEONARD CREEK NEAR ST LEONARD, MD\n",
      "State:                        MD\n",
      "First day of measurement:     19561201\n",
      "Last day of measurement:      20030930\n",
      "Drainage area (square miles): 6.73\n",
      "Average flow (cfs):           6.924\n",
      "NWIS url:                     http://waterdata.usgs.gov/nwis/nwisman/?site_no=01594800\n",
      "flow on 2001-01-01 (cfs):     4.1\n",
      "mean flow across dates (cfs): 6.8\n",
      "\n",
      "no TSS data available for this station\n",
      "\n"
     ]
    }
   ],
   "source": [
    "\n",
    "print ('Data for downloaded stations:')\n",
    "s = datetime.datetime(2001, 1, 1)\n",
    "e = datetime.datetime(2002, 1, 1)\n",
    "\n",
    "for n in datafiles:\n",
    "\n",
    "    p = '{}/{}'.format(gagepath, n)\n",
    "    with open(p, 'rb') as f: station = pickle.load(f)\n",
    "    \n",
    "    # the following are attributes of the station directly from the database\n",
    "    print('Gage ID:                     ', station.gageid)\n",
    "    print('Name:                        ', station.name)\n",
    "    print('State:                       ', station.state)\n",
    "    print('First day of measurement:    ', station.day1)\n",
    "    print('Last day of measurement:     ', station.dayn)\n",
    "    print('Drainage area (square miles):', station.drain)\n",
    "    print('Average flow (cfs):          ', station.ave)\n",
    "    print('NWIS url:                    ', station.web)\n",
    "        \n",
    "    try: \n",
    "\n",
    "        ts = station.make_timeseries(start = s, end = e)   \n",
    "        \n",
    "        its = s.year, s.month, s.day, ts[0]\n",
    "        print('flow on {:04d}-{:02d}-{:02d} (cfs):     {}'.format(*its))\n",
    "        \n",
    "        ave = sum(ts) / (e - s).days\n",
    "        print('mean flow across dates (cfs): {:.1f}'.format(ave))\n",
    "        \n",
    "           \n",
    "        \n",
    "    except: pass \n",
    "    \n",
    "    \n",
    "    print('')\n",
    "\n",
    "    try:\n",
    "\n",
    "        TSS = station.waterquality['00530']\n",
    "        print('Number of suspended solids measurements:', len(TSS))\n",
    "        print('TSS concentration on {}: {} mg/L'.format(*TSS[0]))\n",
    "\n",
    "    except: \n",
    "\n",
    "        print('no TSS data available for this station')\n",
    "        \n",
    "        \n",
    "    print('')   "
   ]
  },
  {
   "cell_type": "markdown",
   "metadata": {},
   "source": [
    " above is the results of daily discharge and water quality on each extracted gagestations in the entire USA."
   ]
  },
  {
   "cell_type": "markdown",
   "metadata": {},
   "source": [
    "change check"
   ]
  },
  {
   "cell_type": "markdown",
   "metadata": {},
   "source": [
    "## simple plot below\n",
    "\n",
    "we are going to plot:    \n",
    "$y=\\frac{1}{\\sin_{i}(\\pi^{2} x)}sin(\\pi x)$\n",
    "Latex equation\n",
    "$\\int_{a}^{b} x^2 dx$"
   ]
  },
  {
   "cell_type": "code",
   "execution_count": 8,
   "metadata": {},
   "outputs": [
    {
     "data": {
      "image/png": "[encoded data removed]",
      "text/plain": [
       "<Figure size 432x288 with 1 Axes>"
      ]
     },
     "metadata": {
      "needs_background": "light"
     },
     "output_type": "display_data"
    }
   ],
   "source": [
    "from matplotlib import pyplot as plt\n",
    "import numpy as np\n",
    "\n",
    "x=np.arange(0,20,0.1)\n",
    "y=np.sin(x)\n",
    "f=plt.plot(x,y)\n"
   ]
  },
  {
   "cell_type": "code",
   "execution_count": null,
   "metadata": {},
   "outputs": [],
   "source": []
  }
 ],
 "metadata": {
  "kernelspec": {
   "display_name": "Python 3",
   "language": "python",
   "name": "python3"
  },
  "language_info": {
   "codemirror_mode": {
    "name": "ipython",
    "version": 3
   },
   "file_extension": ".py",
   "mimetype": "text/x-python",
   "name": "python",
   "nbconvert_exporter": "python",
   "pygments_lexer": "ipython3",
   "version": "3.7.6"
  }
 },
 "nbformat": 4,
 "nbformat_minor": 4
}
